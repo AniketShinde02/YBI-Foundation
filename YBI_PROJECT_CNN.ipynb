{
  "nbformat": 4,
  "nbformat_minor": 0,
  "metadata": {
    "colab": {
      "provenance": []
    },
    "kernelspec": {
      "name": "python3",
      "display_name": "Python 3"
    },
    "language_info": {
      "name": "python"
    }
  },
  "cells": [
    {
      "cell_type": "markdown",
      "source": [
        "# **Title of Project Objective:** To create a simple CNN model for image **classification Data Source:** Randomly generated dataset"
      ],
      "metadata": {
        "id": "4KfqEESzLwJq"
      }
    },
    {
      "cell_type": "markdown",
      "source": [
        "# Objective\n",
        "\n",
        "---\n",
        "\n",
        " **To generate and display 4 random grayscale images of size 4x4, with pixel values normalized between 0 and 1, using NumPy and Matplotlib libraries.**"
      ],
      "metadata": {
        "id": "3BujisjpOEIb"
      }
    },
    {
      "cell_type": "markdown",
      "source": [
        "*Import Library*\n",
        "\n"
      ],
      "metadata": {
        "id": "wZaKNB4GL82S"
      }
    },
    {
      "cell_type": "code",
      "source": [
        "import numpy as np\n",
        "from keras.models import Sequential\n",
        "from keras.layers import Dense, Dropout, Flatten\n",
        "from keras.layers import Conv2D, MaxPooling2D\n",
        "from keras.utils import to_categorical\n",
        "import matplotlib.pyplot as plt"
      ],
      "metadata": {
        "id": "rdzWVTICMGVX"
      },
      "execution_count": 3,
      "outputs": []
    },
    {
      "cell_type": "markdown",
      "source": [
        "*Import Data*"
      ],
      "metadata": {
        "id": "cWuOp96AMPC6"
      }
    },
    {
      "cell_type": "code",
      "source": [
        "np.random.seed(0)\n",
        "x_train = np.random.rand(25, 8, 8, 1)\n",
        "y_train = np.random.randint(0, 2, 25)\n",
        "x_test = np.random.rand(15, 8, 8, 1)\n",
        "y_test = np.random.randint(0, 2, 15)"
      ],
      "metadata": {
        "id": "ozwevswBMhtr"
      },
      "execution_count": 4,
      "outputs": []
    },
    {
      "cell_type": "markdown",
      "source": [
        " **Describe Data The dataset consists of 25 training images and 15 testing images, each of size 8x8x1.**"
      ],
      "metadata": {
        "id": "Uf1_aON7MkOL"
      }
    },
    {
      "cell_type": "code",
      "source": [
        "#DATA VISUALIZATION\n",
        "plt.figure(figsize=(10, 10))\n",
        "for i in range(9):\n",
        "    plt.subplot(3, 3, i+1)\n",
        "    plt.imshow(x_train[i, :, :, 0], cmap='gray')\n",
        "    plt.axis('off')\n",
        "plt.show()"
      ],
      "metadata": {
        "colab": {
          "base_uri": "https://localhost:8080/",
          "height": 807
        },
        "id": "ew-2mQI2Mo-a",
        "outputId": "3523d76e-1898-4563-dc03-5b7707baa883"
      },
      "execution_count": 5,
      "outputs": [
        {
          "output_type": "display_data",
          "data": {
            "text/plain": [
              "<Figure size 1000x1000 with 9 Axes>"
            ],
            "image/png": "[encoded data removed]"
          },
          "metadata": {}
        }
      ]
    },
    {
      "cell_type": "markdown",
      "source": [
        "## **Data Preprocessing**"
      ],
      "metadata": {
        "id": "-ashNqzKMzWU"
      }
    },
    {
      "cell_type": "code",
      "source": [
        "x_train = x_train.astype('float32')\n",
        "x_test = x_test.astype('float32')\n",
        "num_classes = 2\n",
        "y_train = to_categorical(y_train, num_classes)\n",
        "y_test = to_categorical(y_test, num_classes)"
      ],
      "metadata": {
        "id": "DfK0nDjzM3xj"
      },
      "execution_count": 6,
      "outputs": []
    },
    {
      "cell_type": "markdown",
      "source": [
        "**Define Target Variable (y) and Feature Variables (X) Target variable: y (class labels) Feature variables: X (image data)**"
      ],
      "metadata": {
        "id": "7o5H2bQ5M958"
      }
    },
    {
      "cell_type": "markdown",
      "source": [
        "# **Train Test Split Already done in the import data step**"
      ],
      "metadata": {
        "id": "fWZcHeSiM_xK"
      }
    },
    {
      "cell_type": "markdown",
      "source": [
        "**Modelling**"
      ],
      "metadata": {
        "id": "A0FqC02mNRKV"
      }
    },
    {
      "cell_type": "code",
      "source": [
        "model = Sequential()\n",
        "model.add(Conv2D(32, kernel_size=(3, 3), activation='relu', input_shape=(8, 8, 1)))\n",
        "model.add(MaxPooling2D(pool_size=(2, 2)))\n",
        "model.add(Dropout(0.25))\n",
        "model.add(Flatten())\n",
        "model.add(Dense(128, activation='relu'))\n",
        "model.add(Dropout(0.5))\n",
        "model.add(Dense(num_classes, activation='softmax'))"
      ],
      "metadata": {
        "id": "kP7gj4EzNEdC"
      },
      "execution_count": 7,
      "outputs": []
    },
    {
      "cell_type": "markdown",
      "source": [
        "**Model Evaluation**"
      ],
      "metadata": {
        "id": "rhP-wV6oNYQz"
      }
    },
    {
      "cell_type": "code",
      "source": [
        "model.compile(loss='categorical_crossentropy',\n",
        "              optimizer='adam',\n",
        "              metrics=['accuracy'])"
      ],
      "metadata": {
        "id": "ZEx8gqCFNZ8G"
      },
      "execution_count": 8,
      "outputs": []
    },
    {
      "cell_type": "markdown",
      "source": [
        "**Train the Model**"
      ],
      "metadata": {
        "id": "ZpEsARJuNcVT"
      }
    },
    {
      "cell_type": "code",
      "source": [
        "model.fit(x_train, y_train,\n",
        "          batch_size=5,\n",
        "          epochs=10,\n",
        "          verbose=1,\n",
        "          validation_data=(x_test, y_test))"
      ],
      "metadata": {
        "colab": {
          "base_uri": "https://localhost:8080/"
        },
        "id": "73ZZ4rJhNfa0",
        "outputId": "a1e8cd89-7e3c-48e4-afaa-84055b50fef1"
      },
      "execution_count": 9,
      "outputs": [
        {
          "output_type": "stream",
          "name": "stdout",
          "text": [
            "Epoch 1/10\n",
            "5/5 [==============================] - 2s 171ms/step - loss: 0.7630 - accuracy: 0.3200 - val_loss: 0.6992 - val_accuracy: 0.4000\n",
            "Epoch 2/10\n",
            "5/5 [==============================] - 0s 42ms/step - loss: 0.6754 - accuracy: 0.6000 - val_loss: 0.7031 - val_accuracy: 0.4000\n",
            "Epoch 3/10\n",
            "5/5 [==============================] - 0s 29ms/step - loss: 0.6581 - accuracy: 0.6400 - val_loss: 0.7044 - val_accuracy: 0.4000\n",
            "Epoch 4/10\n",
            "5/5 [==============================] - 0s 27ms/step - loss: 0.6707 - accuracy: 0.5200 - val_loss: 0.7092 - val_accuracy: 0.4000\n",
            "Epoch 5/10\n",
            "5/5 [==============================] - 0s 34ms/step - loss: 0.6937 - accuracy: 0.4800 - val_loss: 0.7071 - val_accuracy: 0.4000\n",
            "Epoch 6/10\n",
            "5/5 [==============================] - 0s 42ms/step - loss: 0.6951 - accuracy: 0.4800 - val_loss: 0.7065 - val_accuracy: 0.2667\n",
            "Epoch 7/10\n",
            "5/5 [==============================] - 0s 36ms/step - loss: 0.6719 - accuracy: 0.7200 - val_loss: 0.7041 - val_accuracy: 0.2667\n",
            "Epoch 8/10\n",
            "5/5 [==============================] - 0s 66ms/step - loss: 0.6423 - accuracy: 0.7600 - val_loss: 0.7020 - val_accuracy: 0.4667\n",
            "Epoch 9/10\n",
            "5/5 [==============================] - 0s 23ms/step - loss: 0.6324 - accuracy: 0.7600 - val_loss: 0.7028 - val_accuracy: 0.4000\n",
            "Epoch 10/10\n",
            "5/5 [==============================] - 0s 27ms/step - loss: 0.6570 - accuracy: 0.7200 - val_loss: 0.7062 - val_accuracy: 0.3333\n"
          ]
        },
        {
          "output_type": "execute_result",
          "data": {
            "text/plain": [
              "<keras.src.callbacks.History at 0x7d625d5945e0>"
            ]
          },
          "metadata": {},
          "execution_count": 9
        }
      ]
    },
    {
      "cell_type": "markdown",
      "source": [
        "**Evaluate the Model**"
      ],
      "metadata": {
        "id": "xK06GV6HNhPd"
      }
    },
    {
      "cell_type": "code",
      "source": [
        "score = model.evaluate(x_test, y_test, verbose=0)\n",
        "print('Test loss:', score[0])\n",
        "print('Test accuracy:', score[1])"
      ],
      "metadata": {
        "colab": {
          "base_uri": "https://localhost:8080/"
        },
        "id": "pfoMBIFTNmj1",
        "outputId": "8a59854a-1c5e-41c1-e2e6-ef7c5ea71c78"
      },
      "execution_count": 10,
      "outputs": [
        {
          "output_type": "stream",
          "name": "stdout",
          "text": [
            "Test loss: 0.7062137722969055\n",
            "Test accuracy: 0.3333333432674408\n"
          ]
        }
      ]
    },
    {
      "cell_type": "markdown",
      "source": [
        "# **Prediction : Not implemented in this code.**"
      ],
      "metadata": {
        "id": "ZoqQvoxRPpbz"
      }
    },
    {
      "cell_type": "code",
      "source": [],
      "metadata": {
        "id": "tbcc8R_2P-BT"
      },
      "execution_count": null,
      "outputs": []
    },
    {
      "cell_type": "markdown",
      "source": [
        "# **Code Explanation:**\n",
        "\n",
        "This code is a simple Convolutional Neural Network (CNN) implementation using Keras. It consists of 9 steps:\n",
        "\n",
        "* Steps 1-4: Import necessary libraries, create a small dataset of 4 training images and 4 testing images, normalize the pixel values, and convert class vectors to binary class matrices.\n",
        "\n",
        "* Step 5: Display some training images using Matplotlib.\n",
        "\n",
        "* Step 6: Define a CNN model with several layers, including convolutional, max pooling, dropout, flatten, and dense layers.\n",
        "\n",
        "* Steps 7-8: Compile the model, train it on the training data, and evaluate its performance on the testing data.\n",
        "\n",
        "Overall, this code demonstrates a basic CNN implementation in Keras, including data preparation, model definition, training, and evaluation."
      ],
      "metadata": {
        "id": "5cSLGwCbP08k"
      }
    }
  ]
}